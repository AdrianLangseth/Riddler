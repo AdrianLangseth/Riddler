{
 "cells": [
  {
   "cell_type": "markdown",
   "metadata": {},
   "source": [
    "# How Many Soldiers Do You Need To Beat The Night King?"
   ]
  },
  {
   "cell_type": "markdown",
   "metadata": {},
   "source": [
    "This is my solution to the May 17th Riddler Classic on [FiveThirtyEight](https://fivethirtyeight.com/features/how-many-soldiers-do-you-need-to-beat-the-night-king/)\n",
    "\n",
    "## Prompt\n",
    "\n",
    "At a pivotal moment in an epic battle between the living and the dead, the Night King, head of the army of the dead, raises all the fallen (formerly) living soldiers to join his ranks. This ability obviously presents a huge military advantage, but how big an advantage exactly?\n",
    "\n",
    "Forget the Battle of Winterfell and model our battle as follows. Each army lines up single file, facing the other army. One soldier steps forward from each line and the pair duels — half the time the living soldier wins, half the time the dead soldier wins. If the living soldier wins, he goes to the back of his army’s line, and the dead soldier is out (the living army uses dragonglass weapons, so the dead soldier is dead forever this time). If the dead soldier wins, he goes to the back of their army’s line, but this time the (formerly) living soldier joins him there. (Reanimation is instantaneous for this Night King.) The battle continues until one army is entirely eliminated.\n",
    "\n",
    "What starting sizes of the armies, living and dead, give each army a 50-50 chance of winning?"
   ]
  },
  {
   "cell_type": "markdown",
   "metadata": {},
   "source": [
    "## Solution\n",
    "For this problem i used a dynamic programming approach. "
   ]
  },
  {
   "cell_type": "code",
   "execution_count": 1,
   "metadata": {},
   "outputs": [],
   "source": [
    "import numpy as np"
   ]
  },
  {
   "cell_type": "code",
   "execution_count": 2,
   "metadata": {},
   "outputs": [],
   "source": [
    "def get_odds_matrix_up_to(Amounts):\n",
    "    \"\"\"\n",
    "    calculates a matrix of probability of human victory and returns it\n",
    "    :param Amounts: the size of the k * k matrix per dimension\n",
    "    :return croppedOddsArray: Array of probability for human wins for m humans, n white walkers\n",
    "    \"\"\"\n",
    "\n",
    "    # First we make base matrix with 1 as when no white walkers remain, signifying a human victory.\n",
    "    oddsmatrix = [[0 for x in range(Amounts * 2)] for y in range(Amounts)] # Must be 2*Amounts to avoid outofboundserror\n",
    "    oddsmatrix[0][0]= 0.5\n",
    "    for i in range(1,Amounts):\n",
    "        oddsmatrix[i][0] = 1\n",
    "\n",
    "    for humans in range(1, Amounts):\n",
    "        for whiteWalkers in range(1, Amounts):\n",
    "            oddsmatrix[humans][whiteWalkers] = (oddsmatrix[humans][whiteWalkers - 1])/2 + (oddsmatrix[humans-1][whiteWalkers + 1])/2\n",
    "\n",
    "\n",
    "    numpy_oddsmatrix = np.array(oddsmatrix)\n",
    "    croppedOddsArray = numpy_oddsmatrix[:, :Amounts]  # reshape back into original size.\n",
    "    return croppedOddsArray"
   ]
  },
  {
   "cell_type": "markdown",
   "metadata": {},
   "source": [
    "I used the pyplot framwork to visualize the relationship between the sizes of armies and the prbability of human victory."
   ]
  },
  {
   "cell_type": "code",
   "execution_count": 3,
   "metadata": {},
   "outputs": [],
   "source": [
    "import matplotlib.pyplot as plt"
   ]
  },
  {
   "cell_type": "code",
   "execution_count": 4,
   "metadata": {},
   "outputs": [],
   "source": [
    "oddsmatrix = get_odds_matrix_up_to(100)"
   ]
  },
  {
   "cell_type": "code",
   "execution_count": 7,
   "metadata": {},
   "outputs": [
    {
     "data": {
      "image/png": "[encoded data removed]",
      "text/plain": [
       "<Figure size 432x288 with 2 Axes>"
      ]
     },
     "metadata": {
      "needs_background": "light"
     },
     "output_type": "display_data"
    }
   ],
   "source": [
    "plt.imshow(oddsmatrix)\n",
    "plt.title(\"Probability Living Army Wins\")\n",
    "plt.xlabel(\"Night King Army Size\")\n",
    "plt.ylabel(\"Living Army Size\")\n",
    "plt.savefig(\"knightking_colormap.pdf\")\n",
    "plt.colorbar()\n",
    "plt.show()"
   ]
  },
  {
   "cell_type": "markdown",
   "metadata": {},
   "source": [
    "As we can see, as armies expand, the white walkers advantage of having the Knight King on their side is dominating, as they only need a army of a size in the teens when the humans have over one hundred to stay competitive."
   ]
  }
 ],
 "metadata": {
  "kernelspec": {
   "display_name": "Python 3",
   "language": "python",
   "name": "python3"
  },
  "language_info": {
   "codemirror_mode": {
    "name": "ipython",
    "version": 3
   },
   "file_extension": ".py",
   "mimetype": "text/x-python",
   "name": "python",
   "nbconvert_exporter": "python",
   "pygments_lexer": "ipython3",
   "version": "3.7.1"
  }
 },
 "nbformat": 4,
 "nbformat_minor": 2
}
