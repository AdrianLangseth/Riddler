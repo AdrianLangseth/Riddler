{
 "cells": [
  {
   "cell_type": "markdown",
   "metadata": {},
   "source": [
    "# Organize Some Debates! Maximize The Shade!"
   ]
  },
  {
   "cell_type": "markdown",
   "metadata": {},
   "source": [
    "This is my solution to the [Riddler Express](https://fivethirtyeight.com/features/organize-some-debates-maximize-the-shade/) from August 9th."
   ]
  },
  {
   "cell_type": "markdown",
   "metadata": {},
   "source": [
    "## Prompt"
   ]
  },
  {
   "cell_type": "markdown",
   "metadata": {},
   "source": [
    "*There are 20 candidates running for the presidential nomination of the Puzzle Party, and the Puzzle Party National Committee is organizing a series of debates. The number of candidates is too big for all of them to appear on the stage at once, so the PPNC splits them for each debate into panels of 10.*\n",
    "\n",
    "*In the first round, Candidates 1 through 10 appear together and Candidates 11 through 20 appear together. There’s just one rule: the candidates can only critique someone they share the stage with. Therefore, Candidates 1 through 10 can throw shade at each other but not at candidates 11 through 20 — and vice versa. However, the PPNC is keen on shade and wants to remedy this problem by mixing up the panels in subsequent debates.*\n",
    "\n",
    "*What is the minimum number of rounds of bifurcated 10-candidate debates such that each candidate gets an opportunity to personally attack every other candidate?*"
   ]
  },
  {
   "cell_type": "markdown",
   "metadata": {},
   "source": [
    "## Solution"
   ]
  },
  {
   "cell_type": "markdown",
   "metadata": {},
   "source": [
    "From the prompt we know we need to place the each candidate in groups of ten enough times for each round of debates. This wil mean that for each round we can at maximum pair a candidate with 9 other candidates which it has not been had the opportunity to throw shade at already. This means that after two rounds a candidate can at most have had the opportunity to throw shade at 18 out of the 19 other candidates. This means even with an impossibly (seeing as not all candidates can be placed in a group with only candidates previously not grouped with every round) ideal setup, we will still need at least 3 rounds of debates."
   ]
  },
  {
   "cell_type": "markdown",
   "metadata": {},
   "source": [
    "On to finding a solution to the riddle at the minimum. Say we arrange candidates in \"packs\": we place candidates 1 throug 5 in pack A, 6-10 in pack B, 11-15 in pack C and 16-20 in pack D. In the first round packs A and B have the debate together, and packs C and D meet for the other debate of round 1. In round two we have packs A and C, and B and D in the other. Lastly in round 3 we have packs A and D in the first debate and packs B and C in the last debate. After round three all candidates have had an opportunity to throw shade at all other candidates."
   ]
  },
  {
   "cell_type": "markdown",
   "metadata": {},
   "source": [
    "This solution has a nice feature to it: since through three rounds each candidate will be in $9*3=27$ \"shade-offs\". Since there are only 19 other candidates there are 8 extra shade opportunities. By placing candidates in packs with other candidates which have a \"shade throwing\" history. This will allow the PPNC to maximize shade by placing candidates who dislike each other in packs with each other."
   ]
  }
 ],
 "metadata": {
  "kernelspec": {
   "display_name": "Python 3",
   "language": "python",
   "name": "python3"
  },
  "language_info": {
   "codemirror_mode": {
    "name": "ipython",
    "version": 3
   },
   "file_extension": ".py",
   "mimetype": "text/x-python",
   "name": "python",
   "nbconvert_exporter": "python",
   "pygments_lexer": "ipython3",
   "version": "3.7.1"
  }
 },
 "nbformat": 4,
 "nbformat_minor": 2
}
