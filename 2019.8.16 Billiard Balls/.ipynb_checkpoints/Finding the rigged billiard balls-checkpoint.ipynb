{
 "cells": [
  {
   "cell_type": "markdown",
   "metadata": {},
   "source": [
    "# Which Billiard Ball Is Rigged?"
   ]
  },
  {
   "cell_type": "markdown",
   "metadata": {},
   "source": [
    "This is my solution to the [Riddler Express](https://fivethirtyeight.com/features/which-billiard-ball-is-rigged/) from August 16th."
   ]
  },
  {
   "cell_type": "markdown",
   "metadata": {},
   "source": [
    "## Prompt"
   ]
  },
  {
   "cell_type": "markdown",
   "metadata": {},
   "source": [
    "From Corey Grodner, balance a bunch of billiard balls:\n",
    "\n",
    "You have 12 billiard balls. To the naked eye, they all look identical, and in your hand, they all feel identical. One of the balls, however, is slightly heavier or slightly lighter than the others, but you don’t know which ball or whether it is heavier or lighter.\n",
    "\n",
    "You do, however, have a balance scale. You can place any equal number of balls on each side of the scale, and the scale will tilt if one side differs in weight. (Note: There is no use in weighing different numbers of balls against each other — the weight difference is so slight that if the scale has more balls on one side, that side will always be heavier.) However, you can only use the scale three times.\n",
    "\n",
    "How can you determine which ball is different, and whether it is heavier or lighter?"
   ]
  },
  {
   "cell_type": "markdown",
   "metadata": {},
   "source": [
    "## Solution"
   ]
  },
  {
   "cell_type": "markdown",
   "metadata": {},
   "source": [
    "To start this off I will divide the 12 balls into the three groups A, B and C. I will call these balls by their group and number within the group. Therefore we have balls A1, A2, A3, A4 in group A, B1, B2, B3, B4 in group B, and C1, C2, C3, C4 in group C.\n",
    "\n",
    "We start off by eliminating at least one of the groups by weighing group A against group B. This group will act as a control group as we know they are not the outlier."
   ]
  },
  {
   "cell_type": "markdown",
   "metadata": {},
   "source": [
    "### If A == B:\n",
    "If A and B are equal, we know that the outlier is in group C. Thus we have reduced the *pool* of possible outliers down to 4. From a pool of 4 possible (C1, C2, C3 and C4) we can measure B1 & C1 vs C2 & C3. \n",
    "\n",
    "If they are equal we know C4 is the outlier and we can measure it against a control such as B1 to find wether it is heavier or lighter. \n",
    "\n",
    "If B1 and C1 are heavier than C2 and C3, we measure C2 against C3. If they are equal we know through elimination that C1 is the outlier and it is heavier than the rest. If they are not equal, the lighter of C2 and C3 is the outlier and is lighter than the rest.\n",
    "\n",
    "If B1 and C1 are lighter than C2 and C3, we measure C2 against C3. If they are equal we know through elimination that C1 is the outlier and it is lighter than the rest. If they are not equal, the heavier of C2 and C3 is the outlier and is heavier than the rest."
   ]
  },
  {
   "cell_type": "markdown",
   "metadata": {},
   "source": [
    "### If A != B:\n",
    "If we find that A and B are not equal in weight, we know the outlier lies within these two groups. From six we can easily reduce down to four through one measurement and down to the result thorugh two more measurements but this would be four measurements in total. The trick to reducing the amount of measurements is remembering the result of the first measurement (which side was heavier)."
   ]
  },
  {
   "cell_type": "markdown",
   "metadata": {},
   "source": [
    "We have the eight balls (A1, A2, A3, A4 and B1, B2, B3, B4) of which contains the outlier, and the four which are ruled out which we now use as control. We know from first measurement wether group A or group B is heavier. In the second weighing we set A1, A2, A3 and **B**4,up against C1, C2, C3 and __A__4. However the placement is important. We need to place the A1, A2, A3 and B4 on the same side as Group A was in measurement 1."
   ]
  },
  {
   "cell_type": "markdown",
   "metadata": {},
   "source": [
    "From this measurement we have three outcomes. If the sides are equal, we know the outlier does not remain in the balls currently on the scale and neither in the other balls in group C. Therefore we have reduced to 3 balls (B1, B2, B3) in 2 measurements, and since we know from measurement one wether the B side was heavier or lighter, we can solve the riddle with one more measurement, B1 v B2. If unequal the heavier/lighter (depending on measurement 1) is the outlier. Otherwise the outlier is B3."
   ]
  },
  {
   "cell_type": "markdown",
   "metadata": {},
   "source": [
    "If the sides are unequal, and the scale still leans the same way as in the first measurement, we know that the outlier did not change sides (rules out A4 and B4) and is still present in the scale. This reduces our pool to a size of 3 (A1, A2, and A3). From here we use the same procedure as if the sides would have been ewual to solve in one more measurement, for a total of 3 mesurements."
   ]
  },
  {
   "cell_type": "markdown",
   "metadata": {},
   "source": [
    "Lastly, if the sides are unequal and the scale shifted sides, we know that the outlier shifted sides and is still present. This only pertains to A4, and B4. The pool is now down to 2 (A4, B4) which we can solve through measuring one against a control ball (any of the ones ruled out), to find which of the two is the outlier."
   ]
  },
  {
   "cell_type": "markdown",
   "metadata": {},
   "source": [
    "The process of determining wether the outlier is lighter or heavier than the rest is just looking back at the results of previous measurements, and check if the side of which the outlier was part of was heavier or lighter. This works as in the case of A != B, as all balls not ruled out by this constraint has been on the scale."
   ]
  }
 ],
 "metadata": {
  "kernelspec": {
   "display_name": "Python 3",
   "language": "python",
   "name": "python3"
  },
  "language_info": {
   "codemirror_mode": {
    "name": "ipython",
    "version": 3
   },
   "file_extension": ".py",
   "mimetype": "text/x-python",
   "name": "python",
   "nbconvert_exporter": "python",
   "pygments_lexer": "ipython3",
   "version": "3.7.1"
  }
 },
 "nbformat": 4,
 "nbformat_minor": 2
}
