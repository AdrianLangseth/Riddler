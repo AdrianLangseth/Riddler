{
 "cells": [
  {
   "cell_type": "markdown",
   "metadata": {},
   "source": [
    "# Reaching Rey\n",
    "\n",
    "## Prompt\n",
    "After being ambushed by the forces of the First Order on the planet Jakku, the droid BB-8 narrowly escaped and requires immediate help. Fortunately, there is one person (named Rey) on the planet who can help BB-8, but they’ve never met and BB-8 has no idea where Rey is located.\n",
    "\n",
    "Even if BB-8 did know where Rey was, what’s the probability that BB-8 could reach her within 24 hours? Assume Jakku has a radius of 4,000 miles (similar to Earth) and that BB-8 rolls along at a speed of 3 miles per hour.\n",
    "\n",
    "## Solution:"
   ]
  },
  {
   "cell_type": "markdown",
   "metadata": {},
   "source": [
    "$$\n",
    "R = 4000 miles \n",
    "$$\n",
    "\n",
    "Surface area of Jakku = $ 4*\\pi*R^2  = 4*\\pi*4000^2 = 201 061 929.83 m^2 $"
   ]
  },
  {
   "cell_type": "markdown",
   "metadata": {},
   "source": [
    "BB-8 can travel 72 miles during the 24 hours. "
   ]
  },
  {
   "cell_type": "code",
   "execution_count": null,
   "metadata": {},
   "outputs": [],
   "source": []
  }
 ],
 "metadata": {
  "kernelspec": {
   "display_name": "Python 3",
   "language": "python",
   "name": "python3"
  },
  "language_info": {
   "codemirror_mode": {
    "name": "ipython",
    "version": 3
   },
   "file_extension": ".py",
   "mimetype": "text/x-python",
   "name": "python",
   "nbconvert_exporter": "python",
   "pygments_lexer": "ipython3",
   "version": "3.7.1"
  }
 },
 "nbformat": 4,
 "nbformat_minor": 2
}
