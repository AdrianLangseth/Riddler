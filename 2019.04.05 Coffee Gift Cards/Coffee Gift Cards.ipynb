{
 "cells": [
  {
   "cell_type": "markdown",
   "metadata": {},
   "source": [
    "This is my solution to the [Riddler Classic](https://fivethirtyeight.com/features/does-your-gift-card-still-have-free-drinks-on-it/) from 5th april 2019."
   ]
  },
  {
   "cell_type": "markdown",
   "metadata": {},
   "source": [
    "# Prompt"
   ]
  },
  {
   "cell_type": "markdown",
   "metadata": {},
   "source": [
    "From Michael Branicky, your card has been declined:\n",
    "\n",
    "Lucky you! You’ve won two gift cards, each loaded with 50 free drinks from your favorite coffee shop, Riddler Caffei-Nation. The cards look identical, and because you’re not one for record-keeping, you randomly pick one of the cards to pay with each time you get a drink. One day, the clerk tells you that he can’t accept the card you presented to him because it doesn’t have any drink credits left on it.\n",
    "\n",
    "What is the probability that the other card still has free drinks on it? How many free drinks can you expect are still available?"
   ]
  },
  {
   "cell_type": "markdown",
   "metadata": {},
   "source": [
    "# Solution"
   ]
  },
  {
   "cell_type": "markdown",
   "metadata": {},
   "source": [
    "For this riddle i will simulate the situation 100000 times to get an average of remaining cups of coffee on the other gift card and the probability of having at least a coffee remaining on the other card."
   ]
  },
  {
   "cell_type": "code",
   "execution_count": 1,
   "metadata": {},
   "outputs": [],
   "source": [
    "import random as r"
   ]
  },
  {
   "cell_type": "code",
   "execution_count": 2,
   "metadata": {},
   "outputs": [],
   "source": [
    "def coffecardSimulation():\n",
    "    wallet = [50, 50]\n",
    "    while True:\n",
    "        num = r.randint(0,1)\n",
    "        if wallet[num] == 0:\n",
    "            return wallet[1-num]\n",
    "        else:\n",
    "            wallet[num] -= 1"
   ]
  },
  {
   "cell_type": "code",
   "execution_count": 3,
   "metadata": {},
   "outputs": [],
   "source": [
    "def simulateCoffeProbability(n):\n",
    "    probability_of_coffee = 0\n",
    "    expected_coffee = 0\n",
    "    for i in range(n):\n",
    "        cupsleft = int(coffecardSimulation())\n",
    "        if cupsleft != 0:\n",
    "            expected_coffee += cupsleft\n",
    "            probability_of_coffee += 1\n",
    "    expected_coffee = expected_coffee / n\n",
    "    probability_of_coffee = probability_of_coffee / n\n",
    "    return round(probability_of_coffee, 3), round(expected_coffee)"
   ]
  },
  {
   "cell_type": "code",
   "execution_count": 4,
   "metadata": {},
   "outputs": [
    {
     "name": "stdout",
     "output_type": "stream",
     "text": [
      "(0.921, 7)\n"
     ]
    }
   ],
   "source": [
    "print(simulateCoffeProbability(100000))"
   ]
  },
  {
   "cell_type": "markdown",
   "metadata": {},
   "source": [
    "We see that the probability of having at least a single coffee remaining on the other gift card to bail us out of the awkward coffee shop situation is 92.1%. When we happen upon this situation we can confidently draw out the other card with the expectation of having seven remaining cups of joe."
   ]
  }
 ],
 "metadata": {
  "kernelspec": {
   "display_name": "Python 3",
   "language": "python",
   "name": "python3"
  },
  "language_info": {
   "codemirror_mode": {
    "name": "ipython",
    "version": 3
   },
   "file_extension": ".py",
   "mimetype": "text/x-python",
   "name": "python",
   "nbconvert_exporter": "python",
   "pygments_lexer": "ipython3",
   "version": "3.7.1"
  }
 },
 "nbformat": 4,
 "nbformat_minor": 2
}
