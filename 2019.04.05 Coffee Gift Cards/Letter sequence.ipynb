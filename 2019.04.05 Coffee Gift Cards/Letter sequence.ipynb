{
 "cells": [
  {
   "cell_type": "markdown",
   "metadata": {},
   "source": [
    "This is my solution to the [Riddler Express](https://fivethirtyeight.com/features/does-your-gift-card-still-have-free-drinks-on-it/) of 5th April 2019"
   ]
  },
  {
   "cell_type": "markdown",
   "metadata": {},
   "source": [
    "# Prompt:\n",
    "\n",
    "From Jamie Wilkowski, who suggests that you think outside of the box:\n",
    "\n",
    "What is the missing letter in the sequence below?"
   ]
  },
  {
   "cell_type": "markdown",
   "metadata": {},
   "source": [
    "![title](letters.png)"
   ]
  },
  {
   "cell_type": "markdown",
   "metadata": {},
   "source": [
    "# Solution:"
   ]
  },
  {
   "cell_type": "markdown",
   "metadata": {},
   "source": [
    "For this riddle i looked at different languages which have these letters. I started with english but it came to nothing as i saw no patterns. The \"out of the box\" clue pushed me to explore some famous languages which are not very common. Therefore i looked at greek. From here i noticed that the distance between B and T in the alphabet is the same as between E and X. Hence, from this i looked at the possibility of a modular distancing. This panned out nicely and i believe the pattern to be that if we give the letters numbers corresponding to their position in the alphabet, the formulae is as such:"
   ]
  },
  {
   "cell_type": "markdown",
   "metadata": {},
   "source": [
    "<center>next = prev mod 24 (size of greek alphabet) </center>"
   ]
  },
  {
   "cell_type": "markdown",
   "metadata": {},
   "source": [
    "This gives the solution of the missing letter as Θ"
   ]
  }
 ],
 "metadata": {
  "kernelspec": {
   "display_name": "Python 3",
   "language": "python",
   "name": "python3"
  },
  "language_info": {
   "codemirror_mode": {
    "name": "ipython",
    "version": 3
   },
   "file_extension": ".py",
   "mimetype": "text/x-python",
   "name": "python",
   "nbconvert_exporter": "python",
   "pygments_lexer": "ipython3",
   "version": "3.7.1"
  }
 },
 "nbformat": 4,
 "nbformat_minor": 2
}
