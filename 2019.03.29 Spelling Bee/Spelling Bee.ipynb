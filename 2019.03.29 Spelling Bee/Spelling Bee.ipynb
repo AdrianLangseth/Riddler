{
 "cells": [
  {
   "cell_type": "code",
   "execution_count": 1,
   "metadata": {},
   "outputs": [],
   "source": [
    "import random as r\n",
    "import matplotlib.pyplot as plt"
   ]
  },
  {
   "cell_type": "code",
   "execution_count": 2,
   "metadata": {},
   "outputs": [],
   "source": [
    "class SpellingBeeContenstant():\n",
    "    _knowledge = 0\n",
    "    _name = \"You Fucked Up\"\n",
    "\n",
    "    def __init__(self, percentage_knowledge):\n",
    "        self._knowledge = percentage_knowledge\n",
    "\n",
    "    def get_knowledge(self):\n",
    "        return self._knowledge\n",
    "\n",
    "    def __str__(self):\n",
    "        return str(self._knowledge)"
   ]
  },
  {
   "cell_type": "code",
   "execution_count": 3,
   "metadata": {},
   "outputs": [],
   "source": [
    "def test_player(player : SpellingBeeContenstant):\n",
    "    return player.get_knowledge() >= r.randint(1,100)"
   ]
  },
  {
   "cell_type": "code",
   "execution_count": 4,
   "metadata": {},
   "outputs": [],
   "source": [
    "def setup_spelling_bee():\n",
    "    players = []\n",
    "    for i in range(90,100):\n",
    "        players.append(SpellingBeeContenstant(i))\n",
    "    return players\n",
    "\n",
    "\n",
    "def run_spelling_bee():\n",
    "    players = setup_spelling_bee()\n",
    "\n",
    "    while True:\n",
    "        for player in players:\n",
    "            if not test_player(player):\n",
    "                players.remove(player)\n",
    "            if len(players) == 1:\n",
    "                return players[0]\n",
    "\n",
    "\n",
    "def simulate_several_bees(amount):\n",
    "    wincount = [0 for i in range(10)]\n",
    "    for i in range(amount):\n",
    "        wincount[run_spelling_bee().get_knowledge() - 90] += 1\n",
    "    return [x / amount for x in wincount]"
   ]
  },
  {
   "cell_type": "code",
   "execution_count": 5,
   "metadata": {},
   "outputs": [],
   "source": [
    "def graph_wins(win_count_list : list):\n",
    "    labels = [str(i) for i in range(90, 100)]\n",
    "    winpct = win_count_list\n",
    "\n",
    "    plt.bar(labels, winpct)\n",
    "    plt.ylabel('Win Share')\n",
    "    plt.title('Win Share by incrementing order')\n",
    "    plt.show()"
   ]
  },
  {
   "cell_type": "code",
   "execution_count": 6,
   "metadata": {},
   "outputs": [
    {
     "data": {
      "image/png": "[encoded data removed]",
      "text/plain": [
       "<Figure size 432x288 with 1 Axes>"
      ]
     },
     "metadata": {
      "needs_background": "light"
     },
     "output_type": "display_data"
    }
   ],
   "source": [
    "graph_wins(simulate_several_bees(10000))"
   ]
  },
  {
   "cell_type": "code",
   "execution_count": null,
   "metadata": {},
   "outputs": [],
   "source": []
  }
 ],
 "metadata": {
  "kernelspec": {
   "display_name": "Python 3",
   "language": "python",
   "name": "python3"
  },
  "language_info": {
   "codemirror_mode": {
    "name": "ipython",
    "version": 3
   },
   "file_extension": ".py",
   "mimetype": "text/x-python",
   "name": "python",
   "nbconvert_exporter": "python",
   "pygments_lexer": "ipython3",
   "version": "3.7.1"
  }
 },
 "nbformat": 4,
 "nbformat_minor": 2
}
