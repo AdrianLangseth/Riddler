{
 "cells": [
  {
   "cell_type": "markdown",
   "metadata": {},
   "source": [
    "# Can You Win A Spelling Bee If You Know 99 Percent Of The Words?"
   ]
  },
  {
   "cell_type": "markdown",
   "metadata": {},
   "source": [
    "This is my solution to the [Riddler Express](https://fivethirtyeight.com/features/can-you-win-a-spelling-bee-if-you-know-99-percent-of-the-words/) from 5th april 2019"
   ]
  },
  {
   "cell_type": "markdown",
   "metadata": {},
   "source": [
    "## Prompt\n",
    "\n",
    "From Steven Pratt, ordinal bee probability:\n",
    "\n",
    "You are competing in a spelling bee alongside nine other contestants. You can each spell words perfectly from a certain portion of the dictionary but will misspell any word not in that portion of the book. Specifically, you have 99 percent of the dictionary down cold, and your opponents have 98 percent, 97 percent, 96 percent, and so on down to 90 percent memorized. The bee’s rules are simple: The contestants take turns spelling in some fixed order, which then restarts with the first surviving speller at the end of a round. Miss a word and you’re out, and the last speller standing wins. The bee words are chosen randomly from the dictionary.\n",
    "\n",
    "First, say the contestants go in decreasing order of their knowledge, so that you go first. What are your chances of winning the spelling bee? Second, say the contestants go in increasing order of knowledge, so that you go last. What are your chances of winning now?"
   ]
  },
  {
   "cell_type": "markdown",
   "metadata": {},
   "source": [
    "## Solution\n",
    "\n",
    "For my solution i created contestants and simulated the bees, in order of strength and in reverse."
   ]
  },
  {
   "cell_type": "code",
   "execution_count": 1,
   "metadata": {},
   "outputs": [],
   "source": [
    "import random as r\n",
    "import matplotlib.pyplot as plt"
   ]
  },
  {
   "cell_type": "code",
   "execution_count": 2,
   "metadata": {},
   "outputs": [],
   "source": [
    "class SpellingBeeContenstant():\n",
    "    _knowledge = 0\n",
    "\n",
    "    def __init__(self, percentage_knowledge):\n",
    "        self._knowledge = percentage_knowledge\n",
    "\n",
    "    def get_knowledge(self):\n",
    "        return self._knowledge\n",
    "\n",
    "    def __str__(self):\n",
    "        return str(self._knowledge)"
   ]
  },
  {
   "cell_type": "code",
   "execution_count": 3,
   "metadata": {},
   "outputs": [],
   "source": [
    "def test_player(player : SpellingBeeContenstant):\n",
    "    return player.get_knowledge() >= r.randint(1,100)"
   ]
  },
  {
   "cell_type": "code",
   "execution_count": 4,
   "metadata": {},
   "outputs": [],
   "source": [
    "def setup_spelling_bee(incrementation_bool : bool):\n",
    "    players = []\n",
    "    for i in range(0, 10):\n",
    "        if incrementation_bool:\n",
    "            players.append(SpellingBeeContenstant(90 + i))\n",
    "        else :\n",
    "            players.append(SpellingBeeContenstant(99 - i))\n",
    "    return players\n",
    "\n",
    "\n",
    "def run_spelling_bee(increment_bool):\n",
    "    players = setup_spelling_bee(increment_bool)\n",
    "\n",
    "    while True:\n",
    "        for player in players:\n",
    "            if not test_player(player):\n",
    "                players.remove(player)\n",
    "            if len(players) == 1:\n",
    "                return players[0]\n",
    "\n",
    "\n",
    "def simulate_several_bees(amount, incrementation_bool):\n",
    "    wincount = [0 for i in range(10)]\n",
    "    for i in range(amount):\n",
    "        wincount[run_spelling_bee(incrementation_bool).get_knowledge() - 90] += 1\n",
    "    return [x / amount for x in wincount]"
   ]
  },
  {
   "cell_type": "code",
   "execution_count": 5,
   "metadata": {},
   "outputs": [],
   "source": [
    "def graph_wins(win_count_list : list):\n",
    "    labels = [str(i) for i in range(90, 100)]\n",
    "    winpct = win_count_list\n",
    "\n",
    "    plt.bar(labels, winpct)\n",
    "    plt.ylabel('Win Share')\n",
    "    plt.title('Win Share of each contestant')\n",
    "    plt.show()"
   ]
  },
  {
   "cell_type": "code",
   "execution_count": 6,
   "metadata": {},
   "outputs": [
    {
     "data": {
      "image/png": "[encoded data removed]",
      "text/plain": [
       "<Figure size 432x288 with 1 Axes>"
      ]
     },
     "metadata": {
      "needs_background": "light"
     },
     "output_type": "display_data"
    }
   ],
   "source": [
    "graph_wins(simulate_several_bees(10000, True))"
   ]
  },
  {
   "cell_type": "code",
   "execution_count": 7,
   "metadata": {},
   "outputs": [
    {
     "data": {
      "image/png": "[encoded data removed]",
      "text/plain": [
       "<Figure size 432x288 with 1 Axes>"
      ]
     },
     "metadata": {
      "needs_background": "light"
     },
     "output_type": "display_data"
    }
   ],
   "source": [
    "graph_wins(simulate_several_bees(10000, False))"
   ]
  },
  {
   "cell_type": "markdown",
   "metadata": {},
   "source": [
    "As we can see, although there is an advantage of being last in the rotation, the effects of this advantage are miniscule. When starting, the 99th percentile candidate wins 52.0% of bees. However when ending each round the candidate chances increases to 52.5%."
   ]
  }
 ],
 "metadata": {
  "kernelspec": {
   "display_name": "Python 3",
   "language": "python",
   "name": "python3"
  },
  "language_info": {
   "codemirror_mode": {
    "name": "ipython",
    "version": 3
   },
   "file_extension": ".py",
   "mimetype": "text/x-python",
   "name": "python",
   "nbconvert_exporter": "python",
   "pygments_lexer": "ipython3",
   "version": "3.7.1"
  }
 },
 "nbformat": 4,
 "nbformat_minor": 2
}
