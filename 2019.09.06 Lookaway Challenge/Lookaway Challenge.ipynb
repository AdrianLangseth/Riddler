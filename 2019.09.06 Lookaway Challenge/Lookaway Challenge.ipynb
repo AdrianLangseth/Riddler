{
 "cells": [
  {
   "cell_type": "markdown",
   "metadata": {},
   "source": [
    "This is my solution to the [Riddler Classic](https://fivethirtyeight.com/features/what-are-your-chances-of-winning-the-u-s-open/) from 6th september 2019."
   ]
  },
  {
   "cell_type": "markdown",
   "metadata": {},
   "source": [
    "# Prompt"
   ]
  },
  {
   "cell_type": "markdown",
   "metadata": {},
   "source": [
    "You and your friend are playing a game of “Acchi, Muite, Hoi” (or what some on Twitter have been calling the “lookaway challenge”). In the first round, you point in one of four directions: up, down, left or right. At the exact same time, your friend also looks in one of those four directions. If your friend looks in the same direction you’re pointing, you win! Otherwise, you switch roles as the game continues to the next round — now your friend points in a direction and you try to look away. As long as no one wins, you keep switching off who points and who looks.\n",
    "\n",
    "It seems like your chances of winning should be 50 percent, since there are exactly two players. But surely it’s not that simple. If both you and your friend choose your directions randomly in each round, what are your chances of winning?"
   ]
  },
  {
   "cell_type": "markdown",
   "metadata": {},
   "source": [
    "# Solution"
   ]
  },
  {
   "cell_type": "markdown",
   "metadata": {},
   "source": [
    "As usual i chose a simulational approach to this riddle. I decided to simulate the game a large amount of times to approach a dependable average. "
   ]
  },
  {
   "cell_type": "markdown",
   "metadata": {},
   "source": [
    "Firstly, i need to import the packages neede, which in this case is matplotlib and numpy:"
   ]
  },
  {
   "cell_type": "code",
   "execution_count": 1,
   "metadata": {},
   "outputs": [],
   "source": [
    "import numpy.random as r\n",
    "import matplotlib.pyplot as plt"
   ]
  },
  {
   "cell_type": "markdown",
   "metadata": {},
   "source": [
    "Secondly, i make the basis for a simulation of a single Lookaway game:"
   ]
  },
  {
   "cell_type": "code",
   "execution_count": 3,
   "metadata": {},
   "outputs": [],
   "source": [
    "def lookaway():\n",
    "    player = 0\n",
    "    while True:\n",
    "\n",
    "\n",
    "        r1 = r.randint(4)\n",
    "        r2 = r.randint(4)\n",
    "\n",
    "        if r1 == r2:\n",
    "            return player\n",
    "        else:\n",
    "            player += 1\n",
    "            player = player % 2"
   ]
  },
  {
   "cell_type": "markdown",
   "metadata": {},
   "source": [
    "Then we make the function for simulating several such games as well as keep track of the score for our player:"
   ]
  },
  {
   "cell_type": "code",
   "execution_count": 4,
   "metadata": {},
   "outputs": [],
   "source": [
    "def simManyLookaway(n):\n",
    "    player1_wins = 0\n",
    "    games = 0\n",
    "    playerwinlist = []\n",
    "    gamelist = [i for i in range(1, n+1 )]\n",
    "    for i in range(n):\n",
    "        games = games + 1\n",
    "        result = lookaway()\n",
    "        if result == 0:\n",
    "            player1_wins += 1\n",
    "        playerwinlist.append(player1_wins)\n",
    "    plt.plot(playerwinlist, gamelist)\n",
    "    plt.show()\n",
    "    return player1_wins / games"
   ]
  },
  {
   "cell_type": "markdown",
   "metadata": {},
   "source": [
    "Running this will give us a ratio of wins for the starter, as well as the chart for the development of the winshare:"
   ]
  },
  {
   "cell_type": "code",
   "execution_count": 5,
   "metadata": {},
   "outputs": [
    {
     "data": {
      "image/png": "[encoded data removed]",
      "text/plain": [
       "<Figure size 432x288 with 1 Axes>"
      ]
     },
     "metadata": {
      "needs_background": "light"
     },
     "output_type": "display_data"
    },
    {
     "name": "stdout",
     "output_type": "stream",
     "text": [
      "0.571222\n"
     ]
    }
   ],
   "source": [
    "print(simManyLookaway(1000000))"
   ]
  },
  {
   "cell_type": "markdown",
   "metadata": {},
   "source": [
    "From this we can see the winshare ratio is quite stable and hovers around 57% for a large amount of time. From this we can tell that, as implied by the prompt, the win share is not 50%. Rather there is a significant advantage of starting to guess which way the opponent looks. The player which starts to guess direction is deemed to win 57% percent more often solely on the basis of his starting advatage."
   ]
  },
  {
   "cell_type": "code",
   "execution_count": null,
   "metadata": {},
   "outputs": [],
   "source": []
  }
 ],
 "metadata": {
  "kernelspec": {
   "display_name": "Python 3",
   "language": "python",
   "name": "python3"
  },
  "language_info": {
   "codemirror_mode": {
    "name": "ipython",
    "version": 3
   },
   "file_extension": ".py",
   "mimetype": "text/x-python",
   "name": "python",
   "nbconvert_exporter": "python",
   "pygments_lexer": "ipython3",
   "version": "3.7.1"
  }
 },
 "nbformat": 4,
 "nbformat_minor": 2
}
