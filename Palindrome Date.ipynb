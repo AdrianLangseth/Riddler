{
 "cells": [
  {
   "cell_type": "markdown",
   "metadata": {},
   "source": [
    "# Riddler Express 7.2.20: How Many More Palindrome Dates Will You See?"
   ]
  },
  {
   "cell_type": "markdown",
   "metadata": {},
   "source": [
    "## Prompt:\n",
    "*From James Anderson comes a palindromic puzzle of calendars:*\n",
    "\n",
    "*This past Sunday was Groundhog Day. Also, there was a football game. But to top it all off, the date, 02/02/2020, was palindromic, meaning it reads the same forwards and backwards (if you ignore the slashes).*\n",
    "\n",
    "*If we write out dates in the American format of MM/DD/YYYY (i.e., the two digits of the month, followed by the two digits of the day, followed by the four digits of the year), how many more palindromic dates will there be this century?*"
   ]
  },
  {
   "cell_type": "markdown",
   "metadata": {},
   "source": [
    "## Solution\n",
    "\n",
    "First I define the format on the form WX|YZ|ZYXW for some W,X,Y,Z.\n",
    "\n",
    "Our first restriction is that ZY must be 20, as we only concern ourselves with the current century. As the most annoying person at the last new years party continually pointed out: the decade lasts from 2011 to 2020. Following that the current century includes 2100. However, he can shove it, as the year 2100 has no month being 00, and therefore has no palindrome dates. Although when the machines inevitably take over, where 0-indexing would be universially adopted and 00|12|2100 (13th january 2100) would be valid: Touché Glenn.\n",
    "\n",
    "Now we know it must be on WX|02|20XW. Meaning we must have W < 2.\n",
    "\n",
    "If we look at the variables as members of sets of valid numbers we have:\n",
    "\n",
    "$$\n",
    "W \\in \\{0,1\\},\n",
    "X \\in \\{0,1,2,3,4,5,6,7,8,9\\}\n",
    "$$\n",
    "\n",
    "By applying the restriction that we are only looking for future palindrome dates, we can rule out the years before 2020:\n",
    "\n",
    "$$\n",
    "W \\in \\{0, 1\\},\n",
    "X \\in \\{2, 3, 4, 5, 6, 7, 8, 9\\}\n",
    "$$\n"
   ]
  },
  {
   "cell_type": "markdown",
   "metadata": {},
   "source": [
    "If we look at the concatenation of W and X, WX, it must become the code of one of the months. Similarily the inverse must satisfy $XW \\geq 20$ Therefore we have the concatenation sets:\n",
    "$$\n",
    "WX \\in \\{01,02,03,04,05,06,07,08,09,10,11,12\\}\n",
    "$$\n",
    "$$\n",
    "XW \\notin \\{01, 02, ..., 19\\}\n",
    "$$\n",
    "\n",
    "Any W,X must satisfy these, therefore the combined set follows:\n",
    "$$\n",
    "WX \\in \\{02,03,04,05,06,07,08,09,12\\}\n",
    "$$"
   ]
  },
  {
   "cell_type": "markdown",
   "metadata": {},
   "source": [
    "We have now done all work which is needed and we can list out the future palindrome dates in the current century:\n",
    "\n",
    "* ~~02|02|2020~~\n",
    "* 12|02|2021\n",
    "* 03|02|2030\n",
    "* 04|02|2040\n",
    "* 05|02|2050\n",
    "* 06|02|2060\n",
    "* 07|02|2070\n",
    "* 08|02|2080\n",
    "* 09|02|2090\n",
    "\n",
    "### In conclusion there are 8 future palindrome dates in the 21st century."
   ]
  }
 ],
 "metadata": {
  "kernelspec": {
   "display_name": "Python 3",
   "language": "python",
   "name": "python3"
  },
  "language_info": {
   "codemirror_mode": {
    "name": "ipython",
    "version": 3
   },
   "file_extension": ".py",
   "mimetype": "text/x-python",
   "name": "python",
   "nbconvert_exporter": "python",
   "pygments_lexer": "ipython3",
   "version": "3.7.1"
  }
 },
 "nbformat": 4,
 "nbformat_minor": 2
}
