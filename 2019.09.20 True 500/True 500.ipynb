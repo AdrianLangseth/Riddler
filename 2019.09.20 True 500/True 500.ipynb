{
 "cells": [
  {
   "cell_type": "markdown",
   "metadata": {},
   "source": [
    "# Prompt"
   ]
  },
  {
   "cell_type": "markdown",
   "metadata": {},
   "source": [
    "Inspired by the Brewers’ apparent mediocrity (they’ve since gone on a roll to clinch a playoff spot) Jibriel asks the following:\n",
    "\n",
    "If a baseball team is truly .500, meaning it has a 50 percent chance of winning each game, what’s the probability that it has won two of its last four games and four of its last eight games?"
   ]
  },
  {
   "cell_type": "markdown",
   "metadata": {},
   "source": [
    "# Solution"
   ]
  },
  {
   "cell_type": "markdown",
   "metadata": {},
   "source": [
    "As the games are independent, we can view this as two intervals where the team must win 2 out of 4.\n",
    "The odds for this is based on the binomial formulae:"
   ]
  },
  {
   "cell_type": "code",
   "execution_count": 12,
   "metadata": {},
   "outputs": [
    {
     "name": "stdout",
     "output_type": "stream",
     "text": [
      "0.140625\n"
     ]
    }
   ],
   "source": [
    "import math\n",
    "\n",
    "n = 4\n",
    "k = 2\n",
    "p = 0.5\n",
    "\n",
    "combinations = math.factorial(4) / (math.factorial(2) * math.factorial(2))\n",
    "\n",
    "odds24 = combinations * p**2 * (1-p)**2\n",
    "\n",
    "print(odds24**2)"
   ]
  },
  {
   "cell_type": "markdown",
   "metadata": {},
   "source": [
    "Here also done by simulation:"
   ]
  },
  {
   "cell_type": "code",
   "execution_count": 10,
   "metadata": {},
   "outputs": [
    {
     "name": "stdout",
     "output_type": "stream",
     "text": [
      "2 out of 4:  0.375\n",
      "2 out of 4, and 4 out of 8:  0.139502\n"
     ]
    }
   ],
   "source": [
    "import numpy as np\n",
    "\n",
    "print(\"2 out of 4: \", round(sum(np.random.binomial(4, 0.5,200000) == 2)/200000, 3))\n",
    "\n",
    "print(\"2 out of 4, and 4 out of 8: \", round(sum(np.random.binomial(4, 0.5,200000) == 2)/200000, 3) * round(sum(np.random.binomial(4, 0.5,200000) == 2)/200000, 3))"
   ]
  }
 ],
 "metadata": {
  "kernelspec": {
   "display_name": "Python 3",
   "language": "python",
   "name": "python3"
  },
  "language_info": {
   "codemirror_mode": {
    "name": "ipython",
    "version": 3
   },
   "file_extension": ".py",
   "mimetype": "text/x-python",
   "name": "python",
   "nbconvert_exporter": "python",
   "pygments_lexer": "ipython3",
   "version": "3.7.1"
  }
 },
 "nbformat": 4,
 "nbformat_minor": 2
}
